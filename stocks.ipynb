{
 "cells": [
  {
   "cell_type": "code",
   "execution_count": 130,
   "metadata": {},
   "outputs": [],
   "source": [
    "import pandas as pd \n",
    "from sklearn.linear_model import LinearRegression\n",
    "import datetime\n",
    "import numpy as np \n",
    "\n",
    "userStock = input(\"Enter a ticker symbol: \")\n",
    "\n",
    "stock_data = pd.read_csv(\"dow_jones_index/dow_jones_index.csv\", parse_dates=[\"date\"])\n",
    "stock_data[\"day_of_year\"] = stock_data[\"date\"].dt.dayofyear\n",
    "stock_data[\"close\"] = stock_data[\"close\"].str[1:]\n",
    "stock_data[\"close\"] = stock_data[\"close\"].astype('float')\n"
   ]
  },
  {
   "cell_type": "code",
   "execution_count": 131,
   "metadata": {},
   "outputs": [],
   "source": [
    "training_data = stock_data[stock_data[\"stock\"] == userStock][0:19]\n",
    "testing_data = stock_data[stock_data[\"stock\"] == userStock][20:25]\n",
    "\n",
    "X_train = training_data[[\"day_of_year\"]]\n",
    "y_train = training_data[\"close\"]\n",
    "X_test = testing_data[[\"day_of_year\"]]"
   ]
  },
  {
   "cell_type": "code",
   "execution_count": 132,
   "metadata": {},
   "outputs": [
    {
     "data": {
      "text/plain": [
       "<matplotlib.axes._subplots.AxesSubplot at 0x7fcc0ee08048>"
      ]
     },
     "execution_count": 132,
     "metadata": {},
     "output_type": "execute_result"
    },
    {
     "data": {
      "image/png": "[encoded data removed]",
      "text/plain": [
       "<Figure size 432x288 with 1 Axes>"
      ]
     },
     "metadata": {
      "needs_background": "light"
     },
     "output_type": "display_data"
    }
   ],
   "source": [
    "stockModel = LinearRegression()\n",
    "stockModel.fit(\n",
    "    X=X_train,\n",
    "    y=y_train\n",
    ")\n",
    "stockModel.predict(\n",
    "    X=X_test\n",
    ")\n",
    "\n",
    "X_new_stock = pd.DataFrame()\n",
    "X_new_stock[\"day_of_year\"]= np.linspace(0,150, num=7)\n",
    "\n",
    "y_new_stock = pd.Series(\n",
    "    stockModel.predict(X_new_stock),\n",
    "    index=X_new_stock[\"day_of_year\"]\n",
    ")\n",
    "\n",
    "training_data.plot.scatter(x=\"day_of_year\", y=\"close\")\n",
    "y_new_stock.plot.line()"
   ]
  },
  {
   "cell_type": "code",
   "execution_count": 133,
   "metadata": {},
   "outputs": [
    {
     "name": "stdout",
     "output_type": "stream",
     "text": [
      "The slope of the linear regression is:  0.022303058825308267\n",
      "The intercept of the linear regession is:  18.052064990587645\n"
     ]
    }
   ],
   "source": [
    "print(\"The slope of the linear regression is: \" , stockModel.coef_[0])\n",
    "print(\"The intercept of the linear regession is: \", stockModel.intercept_)"
   ]
  },
  {
   "cell_type": "code",
   "execution_count": 134,
   "metadata": {},
   "outputs": [
    {
     "name": "stdout",
     "output_type": "stream",
     "text": [
      "22.066615579143132\n"
     ]
    }
   ],
   "source": [
    "stockModel2 = LinearRegression()\n",
    "\n",
    "stockModel2.fit(\n",
    "    X=training_data[[\"day_of_year\"]],\n",
    "    y=training_data[\"close\"]\n",
    ")\n",
    "\n",
    "stock_predict = pd.DataFrame({\"day_of_year\": [180]})\n",
    "ans = stockModel2.predict(\n",
    "    X=stock_predict[[\"day_of_year\"]]\n",
    ")\n",
    "\n",
    "print(ans[0])"
   ]
  },
  {
   "cell_type": "code",
   "execution_count": 135,
   "metadata": {},
   "outputs": [
    {
     "name": "stdout",
     "output_type": "stream",
     "text": [
      "close        14.72  15.23  15.28  15.79  15.92  15.97  16.03  16.11  16.13  \\\n",
      "day_of_year                                                                  \n",
      "7                0      0      0      0      0      0      0      0      0   \n",
      "14               0      0      0      0      0      1      0      0      0   \n",
      "21               0      0      0      1      0      0      0      0      0   \n",
      "28               0      0      0      0      0      0      0      0      1   \n",
      "35               0      0      0      0      0      0      0      0      0   \n",
      "42               0      0      0      0      0      0      0      0      0   \n",
      "49               0      0      0      0      0      0      0      0      0   \n",
      "56               0      0      0      0      0      0      0      0      0   \n",
      "63               0      0      0      0      0      0      0      0      0   \n",
      "70               0      0      0      0      0      0      1      0      0   \n",
      "77               0      0      0      0      0      0      0      1      0   \n",
      "84               0      0      0      0      0      0      0      0      0   \n",
      "91               0      0      0      0      0      0      0      0      0   \n",
      "98               0      0      0      0      0      0      0      0      0   \n",
      "105              0      0      0      0      0      0      0      0      0   \n",
      "111              0      0      0      0      0      0      0      0      0   \n",
      "119              0      0      0      0      0      0      0      0      0   \n",
      "126              0      0      0      0      0      0      0      0      0   \n",
      "133              0      0      0      0      0      0      0      0      0   \n",
      "140              0      0      0      0      0      0      0      0      0   \n",
      "147              0      0      0      0      0      0      0      0      0   \n",
      "154              0      0      0      0      1      0      0      0      0   \n",
      "161              0      0      1      0      0      0      0      0      0   \n",
      "168              1      0      0      0      0      0      0      0      0   \n",
      "175              0      1      0      0      0      0      0      0      0   \n",
      "\n",
      "close        16.26  ...    16.97  17.00  17.09  17.10  17.14  17.15  17.28  \\\n",
      "day_of_year         ...                                                      \n",
      "7                0  ...        0      0      0      0      0      0      0   \n",
      "14               0  ...        0      0      0      0      0      0      0   \n",
      "21               0  ...        0      0      0      0      0      0      0   \n",
      "28               0  ...        0      0      0      0      0      0      0   \n",
      "35               0  ...        0      0      0      0      1      0      0   \n",
      "42               0  ...        0      0      0      0      0      0      0   \n",
      "49               0  ...        0      0      0      0      0      0      1   \n",
      "56               0  ...        0      0      0      0      0      0      0   \n",
      "63               0  ...        0      0      0      0      0      0      0   \n",
      "70               0  ...        0      0      0      0      0      0      0   \n",
      "77               0  ...        0      0      0      0      0      0      0   \n",
      "84               0  ...        0      0      1      0      0      0      0   \n",
      "91               0  ...        0      0      0      0      0      0      0   \n",
      "98               0  ...        0      0      0      0      0      0      0   \n",
      "105              0  ...        0      0      0      0      0      0      0   \n",
      "111              0  ...        1      0      0      0      0      0      0   \n",
      "119              0  ...        0      1      0      0      0      0      0   \n",
      "126              0  ...        0      0      0      0      0      1      0   \n",
      "133              0  ...        0      0      0      1      0      0      0   \n",
      "140              1  ...        0      0      0      0      0      0      0   \n",
      "147              0  ...        0      0      0      0      0      0      0   \n",
      "154              0  ...        0      0      0      0      0      0      0   \n",
      "161              0  ...        0      0      0      0      0      0      0   \n",
      "168              0  ...        0      0      0      0      0      0      0   \n",
      "175              0  ...        0      0      0      0      0      0      0   \n",
      "\n",
      "close        17.37  17.47  17.92  \n",
      "day_of_year                       \n",
      "7                0      0      0  \n",
      "14               0      0      0  \n",
      "21               0      0      0  \n",
      "28               0      0      0  \n",
      "35               0      0      0  \n",
      "42               1      0      0  \n",
      "49               0      0      0  \n",
      "56               0      0      0  \n",
      "63               0      0      0  \n",
      "70               0      0      0  \n",
      "77               0      0      0  \n",
      "84               0      0      0  \n",
      "91               0      1      0  \n",
      "98               0      0      1  \n",
      "105              0      0      0  \n",
      "111              0      0      0  \n",
      "119              0      0      0  \n",
      "126              0      0      0  \n",
      "133              0      0      0  \n",
      "140              0      0      0  \n",
      "147              0      0      0  \n",
      "154              0      0      0  \n",
      "161              0      0      0  \n",
      "168              0      0      0  \n",
      "175              0      0      0  \n",
      "\n",
      "[25 rows x 25 columns]\n"
     ]
    }
   ],
   "source": [
    "# Pearson Test: Figure out which stock is growing the fastest during the two quarters \n",
    "stock_AA = stock_data[stock_data[\"stock\"] == \"AA\"]\n",
    "\n",
    "timeVsPrice = pd.crosstab(stock_AA[\"day_of_year\"], stock_AA[\"close\"])\n",
    "\n",
    "print(timeVsPrice)\n",
    "\n",
    "\n"
   ]
  }
 ],
 "metadata": {
  "interpreter": {
   "hash": "e534e48711db4d1e1c48977d0d14ff85b1f16d41bcc4fdfd88268a329b3c9d66"
  },
  "kernelspec": {
   "display_name": "",
   "language": "python",
   "name": "python3"
  },
  "language_info": {
   "codemirror_mode": {
    "name": "ipython",
    "version": 3
   },
   "file_extension": ".py",
   "mimetype": "text/x-python",
   "name": "python",
   "nbconvert_exporter": "python",
   "pygments_lexer": "ipython3",
   "version": "3.7.1"
  },
  "orig_nbformat": 4
 },
 "nbformat": 4,
 "nbformat_minor": 2
}
