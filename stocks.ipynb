{
 "cells": [
  {
   "cell_type": "code",
   "execution_count": 325,
   "metadata": {},
   "outputs": [],
   "source": [
    "import pandas as pd \n",
    "from sklearn.linear_model import LinearRegression\n",
    "import datetime\n",
    "import numpy as np \n",
    "\n",
    "userStock = input(\"Enter a ticker symbol: \")\n",
    "\n",
    "stock_data = pd.read_csv(\"dow_jones_index/dow_jones_index.csv\", parse_dates=[\"date\"])\n",
    "stock_data[\"day_of_year\"] = stock_data[\"date\"].dt.dayofyear\n",
    "stock_data[\"close\"] = stock_data[\"close\"].str[1:]\n",
    "stock_data[\"close\"] = stock_data[\"close\"].astype('float')\n"
   ]
  },
  {
   "cell_type": "code",
   "execution_count": 326,
   "metadata": {},
   "outputs": [],
   "source": [
    "training_data = stock_data[stock_data[\"stock\"] == userStock][0:19]\n",
    "testing_data = stock_data[stock_data[\"stock\"] == userStock][20:25]\n",
    "\n",
    "X_train = training_data[[\"day_of_year\"]]\n",
    "y_train = training_data[\"close\"]\n",
    "X_test = testing_data[[\"day_of_year\"]]"
   ]
  },
  {
   "cell_type": "code",
   "execution_count": 327,
   "metadata": {},
   "outputs": [
    {
     "data": {
      "text/plain": [
       "<matplotlib.axes._subplots.AxesSubplot at 0x7fcc11bda780>"
      ]
     },
     "execution_count": 327,
     "metadata": {},
     "output_type": "execute_result"
    },
    {
     "data": {
      "image/png": "[encoded data removed]",
      "text/plain": [
       "<Figure size 432x288 with 1 Axes>"
      ]
     },
     "metadata": {
      "needs_background": "light"
     },
     "output_type": "display_data"
    }
   ],
   "source": [
    "stockModel = LinearRegression()\n",
    "stockModel.fit(\n",
    "    X=X_train,\n",
    "    y=y_train\n",
    ")\n",
    "stockModel.predict(\n",
    "    X=X_test\n",
    ")\n",
    "\n",
    "X_new_stock = pd.DataFrame()\n",
    "X_new_stock[\"day_of_year\"]= np.linspace(0,150, num=7)\n",
    "\n",
    "y_new_stock = pd.Series(\n",
    "    stockModel.predict(X_new_stock),\n",
    "    index=X_new_stock[\"day_of_year\"]\n",
    ")\n",
    "\n",
    "training_data.plot.scatter(x=\"day_of_year\", y=\"close\")\n",
    "y_new_stock.plot.line()"
   ]
  },
  {
   "cell_type": "code",
   "execution_count": 328,
   "metadata": {},
   "outputs": [
    {
     "name": "stdout",
     "output_type": "stream",
     "text": [
      "The slope of the linear regression is:  -0.02613955606964383\n",
      "The intercept of the linear regession is:  28.281551053502984\n"
     ]
    }
   ],
   "source": [
    "print(\"The slope of the linear regression is: \" , stockModel.coef_[0])\n",
    "print(\"The intercept of the linear regession is: \", stockModel.intercept_)"
   ]
  },
  {
   "cell_type": "code",
   "execution_count": 329,
   "metadata": {},
   "outputs": [
    {
     "name": "stdout",
     "output_type": "stream",
     "text": [
      "23.576430960967095\n"
     ]
    }
   ],
   "source": [
    "stockModel2 = LinearRegression()\n",
    "\n",
    "stockModel2.fit(\n",
    "    X=training_data[[\"day_of_year\"]],\n",
    "    y=training_data[\"close\"]\n",
    ")\n",
    "\n",
    "stock_predict = pd.DataFrame({\"day_of_year\": [180]})\n",
    "ans = stockModel2.predict(\n",
    "    X=stock_predict[[\"day_of_year\"]]\n",
    ")\n",
    "\n",
    "print(ans[0])"
   ]
  },
  {
   "cell_type": "code",
   "execution_count": 330,
   "metadata": {},
   "outputs": [
    {
     "name": "stdout",
     "output_type": "stream",
     "text": [
      "The average correlation during the 2011 in the DOW Jones Index is  0.16248216400042942\n",
      "The highest correlation was MCD at a correlation of  0.8929307800638212\n",
      "The lowest correlation was BAC at a correlation of  -0.941645531585249\n"
     ]
    }
   ],
   "source": [
    "# Pearson Test: Figure out which stock is growing the fastest during the two quarters \n",
    "from scipy.stats import pearsonr\n",
    "\n",
    "stockNames = stock_data.stock.unique()\n",
    "\n",
    "totalCorr = 0\n",
    "maxCorr = 0\n",
    "minCorr = float(\"inf\")\n",
    "stockNameMax = \"\"\n",
    "stockNameMin = \"\"\n",
    "for x in stockNames:\n",
    "    stockName = stock_data[stock_data[\"stock\"] == x]\n",
    "    corr, _ = pearsonr(stockName[\"day_of_year\"], stockName[\"close\"])\n",
    "    totalCorr += corr\n",
    "    if(corr > maxCorr):\n",
    "        maxCorr = corr\n",
    "        stockNameMax = x\n",
    "    if(corr < minCorr):\n",
    "        minCorr = corr\n",
    "        stockNameMin = x\n",
    "\n",
    "print(\"The average correlation during the 2011 in the DOW Jones Index is \", totalCorr / 30)\n",
    "print(\"The highest correlation was\", stockNameMax, \"at a correlation of \", maxCorr)\n",
    "print(\"The lowest correlation was\", stockNameMin, \"at a correlation of \", minCorr)\n"
   ]
  },
  {
   "cell_type": "code",
   "execution_count": null,
   "metadata": {},
   "outputs": [],
   "source": []
  }
 ],
 "metadata": {
  "interpreter": {
   "hash": "e534e48711db4d1e1c48977d0d14ff85b1f16d41bcc4fdfd88268a329b3c9d66"
  },
  "kernelspec": {
   "display_name": "",
   "language": "python",
   "name": "python3"
  },
  "language_info": {
   "codemirror_mode": {
    "name": "ipython",
    "version": 3
   },
   "file_extension": ".py",
   "mimetype": "text/x-python",
   "name": "python",
   "nbconvert_exporter": "python",
   "pygments_lexer": "ipython3",
   "version": "3.7.1"
  },
  "orig_nbformat": 4
 },
 "nbformat": 4,
 "nbformat_minor": 2
}
